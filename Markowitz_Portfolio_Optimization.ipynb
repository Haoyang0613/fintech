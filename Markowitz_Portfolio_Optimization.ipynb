{
 "cells": [
  {
   "cell_type": "code",
   "execution_count": 16,
   "metadata": {},
   "outputs": [],
   "source": [
    "import pandas as pd\n",
    "import numpy as np\n",
    "import pandas_datareader as reader\n",
    "import matplotlib.pyplot as plt\n",
    "from scipy import stats\n"
   ]
  },
  {
   "cell_type": "code",
   "execution_count": 17,
   "metadata": {},
   "outputs": [
    {
     "name": "stdout",
     "output_type": "stream",
     "text": [
      "Symbols         AAPL      AMZN     BRK-B      GOOG       JNJ      MSFT  \\\n",
      "Date                                                                     \n",
      "2018-11-08 -0.003489 -0.000330  0.005334 -0.010051  0.003800 -0.001876   \n",
      "2018-11-09 -0.019282 -0.024206 -0.012544 -0.015013  0.000275 -0.019508   \n",
      "2018-11-12 -0.050374 -0.044136 -0.019169 -0.025813  0.001926 -0.024642   \n",
      "2018-11-13 -0.009991 -0.003470  0.011605 -0.002484 -0.006455  0.000655   \n",
      "2018-11-14 -0.028247 -0.019716 -0.008673  0.007345 -0.002972 -0.014181   \n",
      "...              ...       ...       ...       ...       ...       ...   \n",
      "2020-03-02  0.093101  0.037266  0.054716  0.037168  0.041196  0.066539   \n",
      "2020-03-03 -0.031759 -0.023010 -0.040528 -0.034353 -0.031638 -0.047919   \n",
      "2020-03-04  0.046385  0.035013  0.043341  0.033644  0.058190  0.036715   \n",
      "2020-03-05 -0.032437 -0.026217 -0.040852 -0.048669 -0.010245 -0.025095   \n",
      "2020-03-06 -0.013280 -0.011923 -0.014261 -0.015640  0.000141 -0.028267   \n",
      "\n",
      "Symbols         NFLX      NVDA      TSLA         V  \n",
      "Date                                                \n",
      "2018-11-08 -0.029252 -0.036484  0.009306  0.003108  \n",
      "2018-11-09 -0.045452 -0.001553 -0.002533 -0.008952  \n",
      "2018-11-12 -0.030975 -0.078427 -0.054863 -0.029250  \n",
      "2018-11-13  0.001122  0.051546  0.022489  0.000000  \n",
      "2018-11-14 -0.026053 -0.010637  0.015558 -0.001646  \n",
      "...              ...       ...       ...       ...  \n",
      "2020-03-02  0.032572  0.023549  0.113220  0.058154  \n",
      "2020-03-03 -0.032227 -0.038129  0.002542 -0.034316  \n",
      "2020-03-04  0.040730  0.070029  0.005352  0.046088  \n",
      "2020-03-05 -0.028688 -0.039436 -0.033302 -0.037727  \n",
      "2020-03-06 -0.010220 -0.026529 -0.029067 -0.013907  \n",
      "\n",
      "[332 rows x 10 columns]\n",
      "[[ 0.00121623]\n",
      " [ 0.00040708]\n",
      " [-0.00014524]\n",
      " [ 0.00065703]\n",
      " [ 0.00014744]\n",
      " [ 0.00129985]\n",
      " [ 0.00063729]\n",
      " [ 0.0011467 ]\n",
      " [ 0.00281143]\n",
      " [ 0.00086535]]\n",
      "[[3.80349587e-04 2.31054207e-04 1.63956018e-04 2.09848968e-04\n",
      "  9.83919873e-05 2.31725866e-04 2.32832656e-04 3.43694840e-04\n",
      "  2.74608467e-04 1.99792923e-04]\n",
      " [2.31054207e-04 3.36325772e-04 1.24724500e-04 2.05112700e-04\n",
      "  8.12647482e-05 2.18993483e-04 2.61334959e-04 3.26438394e-04\n",
      "  2.42008217e-04 1.72798369e-04]\n",
      " [1.63956018e-04 1.24724500e-04 1.40020142e-04 1.13521065e-04\n",
      "  6.81093444e-05 1.28193679e-04 1.20479740e-04 1.78854369e-04\n",
      "  1.30486552e-04 1.16577102e-04]\n",
      " [2.09848968e-04 2.05112700e-04 1.13521065e-04 2.79848014e-04\n",
      "  6.52768517e-05 1.90476866e-04 2.10798445e-04 2.69121475e-04\n",
      "  1.93866649e-04 1.64207029e-04]\n",
      " [9.83919873e-05 8.12647482e-05 6.81093444e-05 6.52768517e-05\n",
      "  1.62908405e-04 8.79546898e-05 1.06265344e-04 7.67218467e-05\n",
      "  8.05775225e-05 7.12809110e-05]\n",
      " [2.31725866e-04 2.18993483e-04 1.28193679e-04 1.90476866e-04\n",
      "  8.79546898e-05 2.58299087e-04 2.20635254e-04 2.80134192e-04\n",
      "  2.50492956e-04 1.89045392e-04]\n",
      " [2.32832656e-04 2.61334959e-04 1.20479740e-04 2.10798445e-04\n",
      "  1.06265344e-04 2.20635254e-04 5.58579406e-04 3.43077965e-04\n",
      "  2.85709981e-04 1.76519006e-04]\n",
      " [3.43694840e-04 3.26438394e-04 1.78854369e-04 2.69121475e-04\n",
      "  7.67218467e-05 2.80134192e-04 3.43077965e-04 9.22102919e-04\n",
      "  3.57829335e-04 2.62020301e-04]\n",
      " [2.74608467e-04 2.42008217e-04 1.30486552e-04 1.93866649e-04\n",
      "  8.05775225e-05 2.50492956e-04 2.85709981e-04 3.57829335e-04\n",
      "  1.39100049e-03 2.14042708e-04]\n",
      " [1.99792923e-04 1.72798369e-04 1.16577102e-04 1.64207029e-04\n",
      "  7.12809110e-05 1.89045392e-04 1.76519006e-04 2.62020301e-04\n",
      "  2.14042708e-04 2.16525122e-04]]\n"
     ]
    }
   ],
   "source": [
    "# Training set with 10 stocks\n",
    "\n",
    "tickers = [\"AAPL\", \"AMZN\", \"BRK-B\", \"GOOG\", \"JNJ\", \"MSFT\", \n",
    "           \"NFLX\", \"NVDA\", \"TSLA\", \"V\"]\n",
    "training_data = reader.get_data_yahoo(tickers, start = \"2018-11-07\", end = \"2020-03-06\")\n",
    "\n",
    "training_daily_returns = training_data['Adj Close'].pct_change().dropna()\n",
    "\n",
    "\n",
    "training_mean = training_daily_returns.mean().to_frame().to_numpy()\n",
    "training_std = training_daily_returns.std().to_frame().to_numpy()\n",
    "training_cov = training_daily_returns.cov().to_numpy()\n",
    "\n",
    "print(training_daily_returns)\n",
    "print(training_mean)\n",
    "print(training_cov)\n",
    "\n"
   ]
  },
  {
   "cell_type": "code",
   "execution_count": 18,
   "metadata": {},
   "outputs": [
    {
     "name": "stdout",
     "output_type": "stream",
     "text": [
      "Symbols        ^GSPC\n",
      "Date                \n",
      "2018-11-08 -0.002509\n",
      "2018-11-09 -0.009199\n",
      "2018-11-12 -0.019701\n",
      "2018-11-13 -0.001482\n",
      "2018-11-14 -0.007567\n",
      "...              ...\n",
      "2020-03-02  0.046039\n",
      "2020-03-03 -0.028108\n",
      "2020-03-04  0.042203\n",
      "2020-03-05 -0.033922\n",
      "2020-03-06 -0.017054\n",
      "\n",
      "[332 rows x 1 columns]\n",
      "0.00022045456770344762\n",
      "0.010534871218494243\n"
     ]
    }
   ],
   "source": [
    "# Training set S&P 500\n",
    "\n",
    "sp500 = [\"^GSPC\"]\n",
    "training_sp = reader.get_data_yahoo(sp500, start = \"2018-11-07\", end = \"2020-03-06\")\n",
    "\n",
    "training_daily_returns_sp = training_sp['Adj Close'].pct_change().dropna()\n",
    "\n",
    "training_mean_sp = training_daily_returns_sp.mean().item()\n",
    "training_std_sp = training_daily_returns_sp.std().item()\n",
    "training_cumu_sp = np.prod(1 + training_daily_returns_sp) - 1\n",
    "\n",
    "print(training_daily_returns_sp)\n",
    "print(training_mean_sp)\n",
    "print(training_std_sp)\n"
   ]
  },
  {
   "cell_type": "code",
   "execution_count": 19,
   "metadata": {},
   "outputs": [
    {
     "name": "stdout",
     "output_type": "stream",
     "text": [
      "Symbols         ^TNX\n",
      "Date                \n",
      "2018-11-08  0.000128\n",
      "2018-11-09  0.000127\n",
      "2018-11-12  0.000126\n",
      "2018-11-13  0.000125\n",
      "2018-11-14  0.000124\n",
      "...              ...\n",
      "2020-03-02  0.000043\n",
      "2020-03-03  0.000040\n",
      "2020-03-04  0.000039\n",
      "2020-03-05  0.000037\n",
      "2020-03-06  0.000028\n",
      "\n",
      "[332 rows x 1 columns]\n"
     ]
    }
   ],
   "source": [
    "# Training set risk free (10-yr T-bill)\n",
    "\n",
    "tbill = [\"^TNX\"]\n",
    "\n",
    "training_tbill = reader.get_data_yahoo(tbill, start = \"2018-11-07\", end = \"2020-03-06\")['Adj Close'].dropna()/100/252\n",
    "\n",
    "training_rf = training_daily_returns_sp.join(training_tbill).drop(columns=\"^GSPC\").fillna(0)\n",
    "\n",
    "training_mean_rf = training_rf.mean().item()\n",
    "\n",
    "print(training_rf)\n"
   ]
  },
  {
   "cell_type": "code",
   "execution_count": 20,
   "metadata": {},
   "outputs": [
    {
     "name": "stdout",
     "output_type": "stream",
     "text": [
      "Date\n",
      "2018-11-08   -0.005994\n",
      "2018-11-09   -0.014877\n",
      "2018-11-12   -0.035572\n",
      "2018-11-13    0.006502\n",
      "2018-11-14   -0.008922\n",
      "                ...   \n",
      "2020-03-02    0.055748\n",
      "2020-03-03   -0.031134\n",
      "2020-03-04    0.041549\n",
      "2020-03-05   -0.032267\n",
      "2020-03-06   -0.016295\n",
      "Length: 332, dtype: float64\n",
      "0.0009043158804040512\n",
      "0.01476064859256022\n"
     ]
    }
   ],
   "source": [
    "# Training set 1/N\n",
    "\n",
    "w_N = np.ones(10)/10\n",
    "training_daily_returns_N = training_daily_returns.dot(w_N)\n",
    "\n",
    "\n",
    "training_mean_N = training_daily_returns_N.mean()\n",
    "training_std_N = training_daily_returns_N.std()\n",
    "training_cumu_N = np.prod(1 + training_daily_returns_N) - 1\n",
    "\n",
    "print(training_daily_returns_N)\n",
    "print(training_mean_N)\n",
    "print(training_std_N)"
   ]
  },
  {
   "cell_type": "code",
   "execution_count": 21,
   "metadata": {},
   "outputs": [],
   "source": [
    "def get_opt(tau, mean, cov, ticker_count):\n",
    "    \n",
    "    e = np.ones((ticker_count, 1))\n",
    "    \n",
    "    w_z = np.subtract(np.dot(np.linalg.inv(cov), mean),\n",
    "                      np.dot(np.divide(np.dot(np.dot(e.T, np.linalg.inv(cov)), mean),\n",
    "                                       np.dot(np.dot(e.T, np.linalg.inv(cov)), e)).item(), \n",
    "                             np.dot(np.linalg.inv(cov), e)))\n",
    "\n",
    "    w_m = np.divide(np.dot(np.linalg.inv(cov), e),\n",
    "                    np.dot(np.dot(e.T, np.linalg.inv(cov)), e).item())    \n",
    "    return np.add(np.dot(tau, w_z), w_m)\n"
   ]
  },
  {
   "cell_type": "code",
   "execution_count": 22,
   "metadata": {},
   "outputs": [],
   "source": [
    "def get_mu(w, mean):\n",
    "    return np.dot(w.T, mean)\n",
    "\n",
    "def get_sigma(w, cov):\n",
    "    return np.dot(np.dot(w.T, cov), w)\n",
    "\n",
    "def get_beta(ra, rf, rm):\n",
    "    y = np.subtract(ra, rf).to_numpy().T.flatten()\n",
    "    x = np.subtract(rm, rf).to_numpy().T.flatten()\n",
    "    slope, intercept, r_value, p_value, std_err = stats.linregress(x, y)\n",
    "    return slope\n"
   ]
  },
  {
   "cell_type": "code",
   "execution_count": 23,
   "metadata": {
    "scrolled": false
   },
   "outputs": [
    {
     "name": "stdout",
     "output_type": "stream",
     "text": [
      "[[-0.19549528]\n",
      " [ 0.04286301]\n",
      " [ 0.56774609]\n",
      " [ 0.13766348]\n",
      " [ 0.39386736]\n",
      " [-0.08553193]\n",
      " [-0.01607604]\n",
      " [-0.04495882]\n",
      " [ 0.006641  ]\n",
      " [ 0.19328113]]\n",
      "[[ 0.20006615]\n",
      " [-0.37516828]\n",
      " [-0.59864542]\n",
      " [ 0.11163183]\n",
      " [ 0.43745586]\n",
      " [ 0.86564907]\n",
      " [-0.09419943]\n",
      " [-0.02858744]\n",
      " [ 0.14208676]\n",
      " [ 0.33971089]]\n",
      "[[ 0.59562758]\n",
      " [-0.79319957]\n",
      " [-1.76503693]\n",
      " [ 0.08560019]\n",
      " [ 0.48104435]\n",
      " [ 1.81683007]\n",
      " [-0.17232281]\n",
      " [-0.01221605]\n",
      " [ 0.27753251]\n",
      " [ 0.48614065]]\n",
      "[[ 0.99118901]\n",
      " [-1.21123085]\n",
      " [-2.93142844]\n",
      " [ 0.05956855]\n",
      " [ 0.52463285]\n",
      " [ 2.76801107]\n",
      " [-0.25044619]\n",
      " [ 0.00415533]\n",
      " [ 0.41297826]\n",
      " [ 0.63257041]]\n"
     ]
    },
    {
     "data": {
      "image/png": "[encoded data removed]",
      "text/plain": [
       "<Figure size 432x288 with 1 Axes>"
      ]
     },
     "metadata": {
      "needs_background": "light"
     },
     "output_type": "display_data"
    }
   ],
   "source": [
    "in_sample_mu = np.array([])\n",
    "in_sample_sigma = np.array([])\n",
    "\n",
    "for i in range(0, 10, 1):\n",
    "    tau = i/10\n",
    "    w_opt = get_opt(tau, training_mean, training_cov, 10)\n",
    "    new_mu = get_mu(w_opt, training_mean)\n",
    "    new_sigma = get_sigma(w_opt, training_cov)\n",
    "    if tau == 0:\n",
    "        in_sample_min_risk_mu = new_mu.item()\n",
    "        in_sample_min_risk_sigma = new_sigma.item()\n",
    "        print(w_opt)\n",
    "    in_sample_mu = np.append(in_sample_mu, new_mu)\n",
    "    in_sample_sigma = np.append(in_sample_sigma, new_sigma)\n",
    "\n",
    "fig = plt.figure()\n",
    "ax = fig.add_axes([0,0,1,1])\n",
    "# Efficient Frontier\n",
    "ax.plot(in_sample_sigma, in_sample_mu)\n",
    "ax.set_xlabel(\"sigma\")\n",
    "ax.set_ylabel(\"mu\")\n",
    "ax.set_title(\"In-sample efficient frontier\")\n",
    "# Min-risk portfolio\n",
    "ax.plot(in_sample_min_risk_sigma, in_sample_min_risk_mu, marker=\".\", markersize=15)\n",
    "ax.text(in_sample_min_risk_sigma, in_sample_min_risk_mu, \"  Min_risk portfolio (Tau = 0)\")\n",
    "# S&P 500\n",
    "ax.plot(training_std_sp, training_mean_sp, marker=\".\", markersize=15)\n",
    "ax.text(training_std_sp, training_mean_sp, \"  S&P 500\")\n",
    "\n",
    "# 1/N\n",
    "ax.plot(training_std_N, training_mean_N, marker=\".\", markersize=15)\n",
    "ax.text(training_std_N, training_mean_N, \"  1/N\")\n",
    "# Optimal Portfolios\n",
    "for i in range(1, 4, 1):\n",
    "    tau = i/10\n",
    "    w_opt = get_opt(tau, training_mean, training_cov, 10)\n",
    "    new_mu = get_mu(w_opt, training_mean)\n",
    "    new_sigma = get_sigma(w_opt, training_cov)\n",
    "    ax.plot(new_sigma, new_mu, marker=\".\", markersize=15)\n",
    "    ax.text(new_sigma, new_mu, \"  Tau = \"+ str(tau))\n",
    "    print(w_opt)\n",
    "plt.show()\n"
   ]
  },
  {
   "cell_type": "code",
   "execution_count": 24,
   "metadata": {
    "scrolled": false
   },
   "outputs": [
    {
     "name": "stdout",
     "output_type": "stream",
     "text": [
      "Portfolio\tMean\t\tStdard Dev.\tCumulative\tSharpe Ratio\tTreynor Ratio\tJensen's Alpha\n",
      "0.0\n",
      "S&P 500 \t0.0002205 \t0.0105349 \t0.0563207 \t0.0129802 \t0.0001367 \t0.0000000\n",
      "1/N\t \t0.0009043 \t0.0147606 \t0.3022018 \t0.0555942 \t0.0006472 \t0.0006472\n",
      "Tau = 0.0 \t-0.0001413 \t0.0000977 \t-0.0611504 \t-2.3031704 \t-0.0003090 \t-0.0003246\n",
      "Tau = 0.1 \t0.0020412 \t0.0003160 \t0.8676482 \t6.1956050 \t0.0016016 \t0.0017904\n",
      "Tau = 0.2 \t0.0042238 \t0.0009707 \t2.4519884 \t4.2649599 \t0.0024122 \t0.0039054\n",
      "Tau = 0.3 \t0.0064063 \t0.0020620 \t4.9292589 \t3.0662691 \t0.0028604 \t0.0060203\n"
     ]
    }
   ],
   "source": [
    "print(\"Portfolio\" + \"\\tMean\\t\" + \"\\tStdard Dev.\" + \"\\tCumulative\" + \"\\tSharpe Ratio\" + \"\\tTreynor Ratio\" + \"\\tJensen's Alpha\")\n",
    "\n",
    "beta_sp = get_beta(training_daily_returns_sp, training_rf, training_daily_returns_sp)\n",
    "alpha_sp = (training_mean_sp - training_mean_rf) - beta_sp * (training_mean_sp - training_mean_rf)\n",
    "print(alpha_sp)\n",
    "print(\"S&P 500 \\t%0.7f \\t%0.7f \\t%0.7f \\t%0.7f \\t%0.7f \\t%0.7f\" % (training_mean_sp, \n",
    "                                                           training_std_sp, \n",
    "                                                           training_cumu_sp, \n",
    "                                                           (training_mean_sp - training_mean_rf)/training_std_sp,\n",
    "                                                           (training_mean_sp - training_mean_rf)/beta_sp, \n",
    "                                                           alpha_sp))\n",
    "\n",
    "beta_N = get_beta(training_daily_returns_N.to_frame(), training_rf, training_daily_returns_sp)\n",
    "alpha_N = (training_mean_N - training_mean_rf) - beta_N * (training_mean_sp - training_mean_rf)\n",
    "print(\"1/N\\t \\t%0.7f \\t%0.7f \\t%0.7f \\t%0.7f \\t%0.7f \\t%0.7f\" % (training_mean_N, \n",
    "                                                         training_std_N, \n",
    "                                                         training_cumu_N,\n",
    "                                                         (training_mean_N - training_mean_rf)/training_std_N, \n",
    "                                                         (training_mean_N - training_mean_rf)/beta_N, \n",
    "                                                         alpha_N))\n",
    "for i in range(0, 4, 1):\n",
    "    tau = i/10\n",
    "    w_opt = get_opt(tau, training_mean, training_cov, 10)\n",
    "    new_mu = get_mu(w_opt, training_mean)\n",
    "    new_sigma = get_sigma(w_opt, training_cov)\n",
    "    new_cumu = np.prod(1 + np.dot(training_daily_returns, w_opt)) - 1\n",
    "    beta = get_beta(np.dot(training_daily_returns, w_opt), training_rf, training_daily_returns_sp)\n",
    "    alpha = (new_mu - training_mean_rf) - beta * (training_mean_sp - training_mean_rf)\n",
    "    print(\"Tau = %0.1f \\t%0.7f \\t%0.7f \\t%0.7f \\t%0.7f \\t%0.7f \\t%0.7f\" % (tau, \n",
    "                                                                   new_mu, \n",
    "                                                                   new_sigma, \n",
    "                                                                   new_cumu, \n",
    "                                                                   (new_mu - training_mean_rf)/new_sigma,\n",
    "                                                                   (new_mu - training_mean_rf)/beta, \n",
    "                                                                   alpha))"
   ]
  },
  {
   "cell_type": "code",
   "execution_count": 25,
   "metadata": {},
   "outputs": [],
   "source": [
    "\n",
    "################################## TEST ################################################################\n"
   ]
  },
  {
   "cell_type": "code",
   "execution_count": 26,
   "metadata": {},
   "outputs": [
    {
     "name": "stdout",
     "output_type": "stream",
     "text": [
      "Symbols         AAPL      AMZN     BRK-B      GOOG       JNJ      MSFT  \\\n",
      "Date                                                                     \n",
      "2020-03-10  0.072022  0.050655  0.049707  0.053333  0.038112  0.068384   \n",
      "2020-03-11 -0.034731 -0.037509 -0.039905 -0.050750 -0.069472 -0.045302   \n",
      "2020-03-12 -0.098755 -0.079221 -0.095921 -0.082688 -0.048483 -0.094838   \n",
      "2020-03-13  0.119808  0.064648  0.116099  0.094017  0.070808  0.142169   \n",
      "2020-03-16 -0.128647 -0.053697 -0.094857 -0.111008 -0.053317 -0.147390   \n",
      "...              ...       ...       ...       ...       ...       ...   \n",
      "2020-11-02 -0.000827 -0.010431  0.011937  0.003097  0.011524 -0.000691   \n",
      "2020-11-03  0.015354  0.014621  0.011355  0.014871 -0.001370  0.020264   \n",
      "2020-11-04  0.040837  0.063230 -0.002226  0.059944  0.006498  0.048249   \n",
      "2020-11-05  0.035494  0.024942  0.006208  0.008141  0.002583  0.031887   \n",
      "2020-11-06 -0.001136 -0.003200  0.006749 -0.000919  0.017816  0.001926   \n",
      "\n",
      "Symbols         NFLX      NVDA      TSLA         V  \n",
      "Date                                                \n",
      "2020-03-10  0.050911  0.063722  0.061398  0.067025  \n",
      "2020-03-11 -0.039025 -0.055960 -0.017200 -0.052848  \n",
      "2020-03-12 -0.099080 -0.122368 -0.116172 -0.074415  \n",
      "2020-03-13  0.066772  0.113402 -0.024851  0.098388  \n",
      "2020-03-16 -0.111389 -0.184521 -0.185778 -0.135472  \n",
      "...              ...       ...       ...       ...  \n",
      "2020-11-02  0.017615  0.003730  0.032136  0.016675  \n",
      "2020-11-03  0.006403  0.034875  0.058400  0.019487  \n",
      "2020-11-04  0.019970  0.059507 -0.006888  0.029893  \n",
      "2020-11-05  0.033826  0.026515  0.040643  0.018920  \n",
      "2020-11-06  0.001888  0.028390 -0.018581  0.004200  \n",
      "\n",
      "[170 rows x 10 columns]\n"
     ]
    }
   ],
   "source": [
    "# test data 10 stocks\n",
    "test_data = reader.get_data_yahoo(tickers, start = \"2020-3-07\", end = \"2020-11-06\")\n",
    "\n",
    "test_daily_returns = test_data['Adj Close'].pct_change().dropna()\n",
    "\n",
    "\n",
    "test_mean = test_daily_returns.mean().to_frame().to_numpy()\n",
    "test_std = test_daily_returns.std().to_frame().to_numpy()\n",
    "test_cov = test_daily_returns.cov().to_numpy()\n",
    "\n",
    "print(test_daily_returns)\n"
   ]
  },
  {
   "cell_type": "code",
   "execution_count": 27,
   "metadata": {
    "scrolled": true
   },
   "outputs": [
    {
     "name": "stdout",
     "output_type": "stream",
     "text": [
      "Symbols        ^GSPC\n",
      "Date                \n",
      "2020-03-10  0.049396\n",
      "2020-03-11 -0.048868\n",
      "2020-03-12 -0.095113\n",
      "2020-03-13  0.092871\n",
      "2020-03-16 -0.119841\n",
      "...              ...\n",
      "2020-11-02  0.012318\n",
      "2020-11-03  0.017799\n",
      "2020-11-04  0.022047\n",
      "2020-11-05  0.019460\n",
      "2020-11-06 -0.000288\n",
      "\n",
      "[170 rows x 1 columns]\n"
     ]
    }
   ],
   "source": [
    "# test data S&P 500\n",
    "test_sp = reader.get_data_yahoo(sp500, start = \"2020-3-07\", end = \"2020-11-06\")\n",
    "\n",
    "test_daily_returns_sp = test_sp['Adj Close'].pct_change().dropna()\n",
    "\n",
    "test_mean_sp = test_daily_returns_sp.mean().item()\n",
    "test_std_sp = test_daily_returns_sp.std().item()\n",
    "test_cumu_sp = np.prod(1 + test_daily_returns_sp) - 1\n",
    "\n",
    "print(test_daily_returns_sp)"
   ]
  },
  {
   "cell_type": "code",
   "execution_count": 28,
   "metadata": {},
   "outputs": [
    {
     "name": "stdout",
     "output_type": "stream",
     "text": [
      "Symbols         ^TNX\n",
      "Date                \n",
      "2020-03-10  0.000030\n",
      "2020-03-11  0.000033\n",
      "2020-03-12  0.000034\n",
      "2020-03-13  0.000038\n",
      "2020-03-16  0.000029\n",
      "...              ...\n",
      "2020-11-02  0.000034\n",
      "2020-11-03  0.000035\n",
      "2020-11-04  0.000030\n",
      "2020-11-05  0.000031\n",
      "2020-11-06  0.000033\n",
      "\n",
      "[170 rows x 1 columns]\n"
     ]
    }
   ],
   "source": [
    "#test data T-bill\n",
    "test_tbill = reader.get_data_yahoo(tbill, start = \"2020-3-07\", end = \"2020-11-06\")['Adj Close'].dropna()/100/252\n",
    "\n",
    "test_rf = test_daily_returns_sp.join(test_tbill).drop(columns=\"^GSPC\").fillna(0)\n",
    "\n",
    "test_mean_rf = test_rf.mean().item()\n",
    "\n",
    "print(test_rf)"
   ]
  },
  {
   "cell_type": "code",
   "execution_count": 29,
   "metadata": {},
   "outputs": [
    {
     "name": "stdout",
     "output_type": "stream",
     "text": [
      "Date\n",
      "2020-03-10    0.057527\n",
      "2020-03-11   -0.044270\n",
      "2020-03-12   -0.091194\n",
      "2020-03-13    0.086126\n",
      "2020-03-16   -0.120608\n",
      "                ...   \n",
      "2020-11-02    0.008476\n",
      "2020-11-03    0.019426\n",
      "2020-11-04    0.031901\n",
      "2020-11-05    0.022916\n",
      "2020-11-06    0.003713\n",
      "Length: 170, dtype: float64\n"
     ]
    }
   ],
   "source": [
    "# 1/N strategy\n",
    "test_daily_returns_N = test_daily_returns.dot(w_N)\n",
    "\n",
    "\n",
    "test_mean_N = test_daily_returns_N.mean()\n",
    "test_std_N = test_daily_returns_N.std()\n",
    "test_cumu_N = np.prod(1 + test_daily_returns_N) - 1\n",
    "\n",
    "print(test_daily_returns_N)"
   ]
  },
  {
   "cell_type": "code",
   "execution_count": 31,
   "metadata": {
    "scrolled": true
   },
   "outputs": [
    {
     "name": "stdout",
     "output_type": "stream",
     "text": [
      "Portfolio\tMean\t\tStdard Dev.\tCumulative\tSharpe Ratio\tTreynor Ratio\tJensen's Alpha\n",
      "0.0\n",
      "S&P 500 \t0.0017353 \t0.0241515 \t0.2777583 \t0.0707000 \t0.0017075 \t0.0000000\n",
      "1/N\t \t0.0033683 \t0.0254569 \t0.6761813 \t0.1312205 \t0.0034550 \t0.0016896\n",
      "Tau = 0.0 \t0.0001393 \t0.0004530 \t-0.0145012 \t0.2461493 \t0.0001444 \t-0.0012072\n",
      "Tau = 0.1 \t0.0031473 \t0.0012354 \t0.5366314 \t2.5250726 \t0.0024732 \t0.0009657\n",
      "Tau = 0.2 \t0.0061552 \t0.0033210 \t1.1371552 \t1.8450175 \t0.0035007 \t0.0031387\n",
      "Tau = 0.3 \t0.0091632 \t0.0067099 \t1.6393663 \t1.3614625 \t0.0040795 \t0.0053117\n"
     ]
    }
   ],
   "source": [
    "print(\"Portfolio\" + \"\\tMean\\t\" + \"\\tStdard Dev.\" + \"\\tCumulative\" + \"\\tSharpe Ratio\" + \"\\tTreynor Ratio\" + \"\\tJensen's Alpha\")\n",
    "\n",
    "beta_sp = get_beta(test_daily_returns_sp, test_rf, test_daily_returns_sp)\n",
    "alpha_sp = (test_mean_sp - test_mean_rf) - beta_sp * (test_mean_sp - test_mean_rf)\n",
    "print(alpha_sp)\n",
    "print(\"S&P 500 \\t%0.7f \\t%0.7f \\t%0.7f \\t%0.7f \\t%0.7f \\t%0.7f\" % (test_mean_sp, \n",
    "                                                           test_std_sp, \n",
    "                                                           test_cumu_sp, \n",
    "                                                           (test_mean_sp - test_mean_rf)/test_std_sp,\n",
    "                                                           (test_mean_sp - test_mean_rf)/beta_sp, \n",
    "                                                           alpha_sp))\n",
    "\n",
    "beta_N = get_beta(test_daily_returns_N.to_frame(), test_rf, test_daily_returns_sp)\n",
    "alpha_N = (test_mean_N - test_mean_rf) - beta_N * (test_mean_sp - test_mean_rf)\n",
    "print(\"1/N\\t \\t%0.7f \\t%0.7f \\t%0.7f \\t%0.7f \\t%0.7f \\t%0.7f\" % (test_mean_N, \n",
    "                                                         test_std_N, \n",
    "                                                         test_cumu_N,\n",
    "                                                         (test_mean_N - test_mean_rf)/test_std_N, \n",
    "                                                         (test_mean_N - test_mean_rf)/beta_N, \n",
    "                                                         alpha_N))\n",
    "for i in range(0, 4, 1):\n",
    "    tau = i/10\n",
    "    w_opt = get_opt(tau, training_mean, training_cov, 10)\n",
    "    new_mu = get_mu(w_opt, test_mean)\n",
    "    new_sigma = get_sigma(w_opt, test_cov)\n",
    "    new_cumu = np.prod(1 + np.dot(test_daily_returns, w_opt)) - 1\n",
    "    beta = get_beta(np.dot(test_daily_returns, w_opt), test_rf, test_daily_returns_sp)\n",
    "    alpha = (new_mu - test_mean_rf) - beta * (test_mean_sp - test_mean_rf)\n",
    "    print(\"Tau = %0.1f \\t%0.7f \\t%0.7f \\t%0.7f \\t%0.7f \\t%0.7f \\t%0.7f\" % (tau, \n",
    "                                                                   new_mu, \n",
    "                                                                   new_sigma, \n",
    "                                                                   new_cumu, \n",
    "                                                                   (new_mu - test_mean_rf)/new_sigma,\n",
    "                                                                   (new_mu - test_mean_rf)/beta, \n",
    "                                                                   alpha))"
   ]
  },
  {
   "cell_type": "code",
   "execution_count": null,
   "metadata": {},
   "outputs": [],
   "source": []
  },
  {
   "cell_type": "code",
   "execution_count": null,
   "metadata": {},
   "outputs": [],
   "source": []
  }
 ],
 "metadata": {
  "kernelspec": {
   "display_name": "Python 3",
   "language": "python",
   "name": "python3"
  },
  "language_info": {
   "codemirror_mode": {
    "name": "ipython",
    "version": 3
   },
   "file_extension": ".py",
   "mimetype": "text/x-python",
   "name": "python",
   "nbconvert_exporter": "python",
   "pygments_lexer": "ipython3",
   "version": "3.8.3"
  }
 },
 "nbformat": 4,
 "nbformat_minor": 4
}
